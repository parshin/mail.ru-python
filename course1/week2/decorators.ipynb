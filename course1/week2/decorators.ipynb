{
 "cells": [
  {
   "cell_type": "code",
   "execution_count": 56,
   "metadata": {},
   "outputs": [
    {
     "name": "stdout",
     "output_type": "stream",
     "text": [
      "null\n",
      "name: get_data\n"
     ]
    }
   ],
   "source": [
    "import json\n",
    "import functools\n",
    "\n",
    "def to_json(func):\n",
    "    @functools.wraps(func)\n",
    "    def wrapped():\n",
    "#         json_obj = json.dumps(func())\n",
    "#         return json_obj\n",
    "#         return func() ** 2\n",
    "        return json.dumps(func())\n",
    "    return wrapped\n",
    "\n",
    "@to_json\n",
    "def get_data():\n",
    "    return None\n",
    "#      return {\n",
    "#     'data': 42\n",
    "#   }\n",
    "\n",
    "print(get_data())\n",
    "\n",
    "print(\"name: {}\".format(get_data.__name__))"
   ]
  }
 ],
 "metadata": {
  "kernelspec": {
   "display_name": "Python 3",
   "language": "python",
   "name": "python3"
  },
  "language_info": {
   "codemirror_mode": {
    "name": "ipython",
    "version": 3
   },
   "file_extension": ".py",
   "mimetype": "text/x-python",
   "name": "python",
   "nbconvert_exporter": "python",
   "pygments_lexer": "ipython3",
   "version": "3.6.6"
  }
 },
 "nbformat": 4,
 "nbformat_minor": 2
}
