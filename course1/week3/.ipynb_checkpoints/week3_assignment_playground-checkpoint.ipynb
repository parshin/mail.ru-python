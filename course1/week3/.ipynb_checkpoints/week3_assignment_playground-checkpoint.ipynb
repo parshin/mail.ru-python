{
 "cells": [
  {
   "cell_type": "code",
   "execution_count": 13,
   "metadata": {},
   "outputs": [],
   "source": [
    "import csv\n",
    "def get_car_list(csv_file):\n",
    "    car_list = []\n",
    "    with open(csv_file, newline='') as csv_fd:\n",
    "        reader = csv.DictReader(csv_fd, delimiter=';')\n",
    "        next(reader)\n",
    "        for row in reader:\n",
    "#             print(', '.join(row))\n",
    "#             print(row)\n",
    "            print(row['brand'], row['car_type'], row['passenger_seats_count'], row['photo_file_name'], \n",
    "                  row['body_whl'], row['carrying'], row['extra'])\n",
    "        return car_list"
   ]
  },
  {
   "cell_type": "code",
   "execution_count": 9,
   "metadata": {},
   "outputs": [
    {
     "name": "stdout",
     "output_type": "stream",
     "text": [
      "['car', 'Nissan xTtrail', '4', 'f1.jpeg', '', '2.5', '']\n",
      "['truck', 'Man', '', 'f2.png', '8x3x2.5', '20', '']\n",
      "['truck', 'Man', '', 'f2.png', '', '20', '']\n",
      "['car', 'Mazda 6', '4', 'f3.jpeg', '', '2.5', '']\n",
      "['', '', '', '']\n",
      "['spec_machine', 'Hitachi', '', 'f4', '', '1.2', 'Легкая техника для уборки снега']\n",
      "[]\n",
      "[]\n"
     ]
    }
   ],
   "source": [
    "print(get_car_list(\"/home/parshin/coursera/mail.ru-python/week3/coursera_week3_cars.csv\"))"
   ]
  },
  {
   "cell_type": "code",
   "execution_count": null,
   "metadata": {},
   "outputs": [],
   "source": []
  }
 ],
 "metadata": {
  "kernelspec": {
   "display_name": "Python 3",
   "language": "python",
   "name": "python3"
  },
  "language_info": {
   "codemirror_mode": {
    "name": "ipython",
    "version": 3
   },
   "file_extension": ".py",
   "mimetype": "text/x-python",
   "name": "python",
   "nbconvert_exporter": "python",
   "pygments_lexer": "ipython3",
   "version": "3.6.6"
  }
 },
 "nbformat": 4,
 "nbformat_minor": 2
}
