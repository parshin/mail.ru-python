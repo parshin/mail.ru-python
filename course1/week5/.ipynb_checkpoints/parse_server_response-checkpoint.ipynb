{
 "cells": [
  {
   "cell_type": "code",
   "execution_count": 29,
   "metadata": {},
   "outputs": [
    {
     "name": "stdout",
     "output_type": "stream",
     "text": [
      "str_list: ['palm.cpu 10.5 1501864247 20.7 1501864248', 'eardrum.cpu 15.3 1501864259']\n",
      "data1: ['palm.cpu', '10.5 1501864247 20.7 1501864248']\n",
      "10.5\n",
      "20.7\n",
      "data1: ['eardrum.cpu', '15.3 1501864259']\n",
      "15.3\n",
      "{'palm.cpu': ['10.5', '1501864247', '20.7', '1501864248'], 'eardrum.cpu': ['15.3', '1501864259']}\n"
     ]
    }
   ],
   "source": [
    "# {\n",
    "#   'palm.cpu': [\n",
    "#     (1150864247, 0.5),\n",
    "#     (1150864248, 0.5)\n",
    "#   ]\n",
    "# }\n",
    "result = {}\n",
    "response = \"ok\\npalm.cpu 10.5 1501864247 20.7 1501864248\\neardrum.cpu 15.3 1501864259\\n\\n\"\n",
    "str_list = response[3:-2:].splitlines()\n",
    "print(f'str_list: {str_list}')\n",
    "for line in str_list:\n",
    "    data = line.split(' ', 1)\n",
    "    print(f'data1: {data}')\n",
    "    metrics = ()\n",
    "    lst_metrics = data[1].split()\n",
    "    for metric in lst_metrics[::2]:\n",
    "        print(metric)\n",
    "        \n",
    "    result[data[0]] = lst_metrics\n",
    "        \n",
    "#         \n",
    "#     lst_metrics = []\n",
    "#     lst_metrics.append(metrics)\n",
    "#     result[data[0]] = lst_metrics\n",
    "#     print(f'data2: {data[1::]}')\n",
    "#     mcpu, tstamp = data[1::].split()\n",
    "#     for item_data in data[::1]:\n",
    "#         print(item_data)\n",
    "#         metrics += (item_data, )\n",
    "        \n",
    "#     lst_metrics.append(metrics)\n",
    "#     print(f'metrics {metrics}')\n",
    "#     result[data[0]] = lst_metrics\n",
    "#     print(f'result: {result}')\n",
    "#     for item_data in data[1::2]:\n",
    "#         print(item_data)\n",
    "#     print(tuple(data[1::]))\n",
    "#     result[data[0]] = list(tuple(data[1:3:]))\n",
    "print(result)\n",
    "\n",
    "\n"
   ]
  },
  {
   "cell_type": "code",
   "execution_count": null,
   "metadata": {},
   "outputs": [],
   "source": [
    "from itertools import tee, izip\n",
    "def pairwise(iterable):\n",
    "    \"s -> (s0,s1), (s1,s2), (s2, s3), ...\"\n",
    "    a, b = tee(iterable)\n",
    "    next(b, None)\n",
    "    return izip(a, b)\n",
    "\n",
    "for v, w in pairwise(a):\n",
    "    ..."
   ]
  }
 ],
 "metadata": {
  "kernelspec": {
   "display_name": "Python 3",
   "language": "python",
   "name": "python3"
  },
  "language_info": {
   "codemirror_mode": {
    "name": "ipython",
    "version": 3
   },
   "file_extension": ".py",
   "mimetype": "text/x-python",
   "name": "python",
   "nbconvert_exporter": "python",
   "pygments_lexer": "ipython3",
   "version": "3.6.6"
  }
 },
 "nbformat": 4,
 "nbformat_minor": 2
}
