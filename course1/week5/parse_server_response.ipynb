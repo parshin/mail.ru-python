{
 "cells": [
  {
   "cell_type": "code",
   "execution_count": 79,
   "metadata": {},
   "outputs": [
    {
     "name": "stdout",
     "output_type": "stream",
     "text": [
      "str_list: ['test 0.5 1', 'test 0.4 2', 'load 301 3']\n",
      "    data1: ['test', '0.5 1']\n",
      "    lst_metrics: ['0.5', '1']\n",
      "      imetric: ('0.5', '1')\n",
      "      cpu: 0.5\n",
      "      timestamp: 1\n",
      "      metrics_list: [(1, 0.5)]\n",
      "result: {'test': [(1, 0.5)]}\n",
      "    data1: ['test', '0.4 2']\n",
      "    lst_metrics: ['0.4', '2']\n",
      "      imetric: ('0.4', '2')\n",
      "      cpu: 0.4\n",
      "      timestamp: 2\n",
      "      metrics_list: [(2, 0.4)]\n",
      "result: {'test': [(1, 0.5), (2, 0.4)]}\n",
      "    data1: ['load', '301 3']\n",
      "    lst_metrics: ['301', '3']\n",
      "      imetric: ('301', '3')\n",
      "      cpu: 301.0\n",
      "      timestamp: 3\n",
      "      metrics_list: [(3, 301.0)]\n",
      "result: {'test': [(1, 0.5), (2, 0.4)], 'load': [(3, 301.0)]}\n"
     ]
    }
   ],
   "source": [
    "# {\n",
    "#   'palm.cpu': [\n",
    "#     (1150864247, 0.5),\n",
    "#     (1150864248, 0.5)\n",
    "#   ]\n",
    "# }\n",
    "\n",
    "\n",
    "result = {}\n",
    "key='*'\n",
    "# response = \"ok\\npalm.cpu 10.5 1501864247 20.7 1501864248\\neardrum.cpu 15.3 1501864259\\n\\n\"\n",
    "response = 'ok\\ntest 0.5 1\\ntest 0.4 2\\nload 301 3\\n\\n'\n",
    "str_list = response[3:-2:].splitlines()\n",
    "print(f'str_list: {str_list}')\n",
    "for line in str_list:\n",
    "    data = line.split(' ', 1)\n",
    "    if key != '*' and key not in data:\n",
    "        continue\n",
    "    print(f'    data1: {data}')\n",
    "    lst_metrics = data[1].split()\n",
    "    print(f'    lst_metrics: {lst_metrics}')\n",
    "    metric = ()\n",
    "    metrics_list=[]\n",
    "    if data[0] not in result:\n",
    "        result[data[0]] = []\n",
    "    zipped = zip(lst_metrics[:-1:2], lst_metrics[1::2])      \n",
    "    for imetric in zipped:\n",
    "        print(f'      imetric: {imetric}')\n",
    "        cpu = float(imetric[0])\n",
    "        timestamp = int(imetric[1])\n",
    "        print(f'      cpu: {cpu}')\n",
    "        print(f'      timestamp: {timestamp}')\n",
    "        metrics_list.append(tuple((timestamp, cpu)))\n",
    "        print(f'      metrics_list: {metrics_list}')\n",
    "#         result[data[0]] = metrics_list\n",
    "#         print(result[data[0]])\n",
    "        result[data[0]].append(tuple((timestamp, cpu)))\n",
    "    \n",
    "        print(f'result: {result}')\n",
    "\n",
    "\n"
   ]
  },
  {
   "cell_type": "code",
   "execution_count": 30,
   "metadata": {},
   "outputs": [
    {
     "name": "stdout",
     "output_type": "stream",
     "text": [
      "<zip object at 0x7fe0e96dc0c8>\n"
     ]
    }
   ],
   "source": [
    "mylist = ['10.5', '1501864247', '20.7', '1501864248']\n",
    "zipped = zip(mylist[:-1:2], mylist[1::2])\n",
    "print((zipped))"
   ]
  }
 ],
 "metadata": {
  "kernelspec": {
   "display_name": "Python 3",
   "language": "python",
   "name": "python3"
  },
  "language_info": {
   "codemirror_mode": {
    "name": "ipython",
    "version": 3
   },
   "file_extension": ".py",
   "mimetype": "text/x-python",
   "name": "python",
   "nbconvert_exporter": "python",
   "pygments_lexer": "ipython3",
   "version": "3.6.6"
  }
 },
 "nbformat": 4,
 "nbformat_minor": 2
}
