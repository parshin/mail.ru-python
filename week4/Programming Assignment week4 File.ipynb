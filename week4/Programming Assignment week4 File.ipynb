{
 "cells": [
  {
   "cell_type": "code",
   "execution_count": 86,
   "metadata": {},
   "outputs": [],
   "source": [
    "import tempfile\n",
    "import os\n",
    "\n",
    "class File:\n",
    "    def __init__(self, file_path):\n",
    "        self.file_path = file_path\n",
    "    \n",
    "    def __str__(self):\n",
    "        return self.file_path\n",
    "    \n",
    "    def write(self, text):\n",
    "        with open(self.file_path, 'w') as f:\n",
    "            f.write(text)\n",
    "        self.text = text\n",
    "        self.file_obj = f\n",
    "    \n",
    "    def __iter__(self):\n",
    "        return self\n",
    "    \n",
    "    def __next__(self):\n",
    "        with open(self.file_path, 'r') as f:\n",
    "            return f.readline(2)\n",
    "     \n",
    "    def __add__(self, obj):\n",
    "        tmp_dir = tempfile.gettempdir()\n",
    "        new_obj = File(os.path.join(tmp_dir, \"third.txt\"))\n",
    "        with open(new_obj.file_path, 'w') as f:\n",
    "            f.write(self.text + obj.text)\n",
    "#         self.text = text\n",
    "        return new_obj\n",
    "    \n"
   ]
  },
  {
   "cell_type": "code",
   "execution_count": 87,
   "metadata": {},
   "outputs": [],
   "source": [
    "# obj = File(tempfile.TemporaryFile())\n",
    "obj1 = File(\"/tmp/file.txt\")\n",
    "obj2 = File(\"/tmp/file2.txt\")"
   ]
  },
  {
   "cell_type": "code",
   "execution_count": 88,
   "metadata": {},
   "outputs": [
    {
     "name": "stdout",
     "output_type": "stream",
     "text": [
      "/tmp/file.txt\n",
      "/tmp/third.txt\n"
     ]
    }
   ],
   "source": [
    "print(obj)\n",
    "obj1.write(\"first\\n\")\n",
    "obj2.write(\"second\\n\")\n",
    "obj3 = obj1 + obj2\n",
    "print(obj3)  "
   ]
  },
  {
   "cell_type": "code",
   "execution_count": 90,
   "metadata": {},
   "outputs": [
    {
     "data": {
      "text/plain": [
       "'fi'"
      ]
     },
     "execution_count": 90,
     "metadata": {},
     "output_type": "execute_result"
    }
   ],
   "source": [
    "next(obj3)"
   ]
  },
  {
   "cell_type": "code",
   "execution_count": null,
   "metadata": {},
   "outputs": [],
   "source": []
  }
 ],
 "metadata": {
  "kernelspec": {
   "display_name": "Python 3",
   "language": "python",
   "name": "python3"
  },
  "language_info": {
   "codemirror_mode": {
    "name": "ipython",
    "version": 3
   },
   "file_extension": ".py",
   "mimetype": "text/x-python",
   "name": "python",
   "nbconvert_exporter": "python",
   "pygments_lexer": "ipython3",
   "version": "3.6.6"
  }
 },
 "nbformat": 4,
 "nbformat_minor": 2
}
