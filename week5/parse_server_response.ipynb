{
 "cells": [
  {
   "cell_type": "code",
   "execution_count": 70,
   "metadata": {},
   "outputs": [
    {
     "name": "stdout",
     "output_type": "stream",
     "text": [
      "data: ['palm.cpu', '10.5', '1501864247', '10.5', '1501864248']\n",
      "metrics ('10.5',)\n",
      "metrics ('10.5', '10.5')\n",
      "data: ['eardrum.cpu', '15.3', '1501864259']\n",
      "metrics ('15.3',)\n",
      "{}\n"
     ]
    }
   ],
   "source": [
    "# {\n",
    "#   'palm.cpu': [\n",
    "#     (1150864247, 0.5),\n",
    "#     (1150864248, 0.5)\n",
    "#   ]\n",
    "# }\n",
    "result = {}\n",
    "response = \"ok\\npalm.cpu 10.5 1501864247 10.5 1501864248\\neardrum.cpu 15.3 1501864259\\n\\n\"\n",
    "str_list = response[3:-2:].splitlines()\n",
    "for line in str_list:\n",
    "    data = line.split()\n",
    "    print(f'data: {data}')\n",
    "    metrics = ()\n",
    "    for item_data in data[1::2]:\n",
    "        metrics += (item_data, )\n",
    "        \n",
    "        print(f'metrics {metrics}')\n",
    "#     for item_data in data[1::2]:\n",
    "#         print(item_data)\n",
    "#     print(tuple(data[1::]))\n",
    "#     result[data[0]] = list(tuple(data[1:3:]))\n",
    "print(result)\n"
   ]
  },
  {
   "cell_type": "code",
   "execution_count": null,
   "metadata": {},
   "outputs": [],
   "source": []
  }
 ],
 "metadata": {
  "kernelspec": {
   "display_name": "Python 3",
   "language": "python",
   "name": "python3"
  },
  "language_info": {
   "codemirror_mode": {
    "name": "ipython",
    "version": 3
   },
   "file_extension": ".py",
   "mimetype": "text/x-python",
   "name": "python",
   "nbconvert_exporter": "python",
   "pygments_lexer": "ipython3",
   "version": "3.6.6"
  }
 },
 "nbformat": 4,
 "nbformat_minor": 2
}
