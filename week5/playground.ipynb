{
 "cells": [
  {
   "cell_type": "code",
   "execution_count": 27,
   "metadata": {},
   "outputs": [
    {
     "name": "stdout",
     "output_type": "stream",
     "text": [
      "[(4, 30.0), (5, 40.0)]\n",
      "True\n"
     ]
    }
   ],
   "source": [
    "payload = {'k1': [(1, 0.25), (3, 0.35)], 'k2': [(4, 30.0), (5, 40.0)]}\n",
    "print(payload['k2'])\n",
    "tpl = (5, 40.0)\n",
    "print(tpl in payload['k2'])"
   ]
  }
 ],
 "metadata": {
  "kernelspec": {
   "display_name": "Python 3",
   "language": "python",
   "name": "python3"
  },
  "language_info": {
   "codemirror_mode": {
    "name": "ipython",
    "version": 3
   },
   "file_extension": ".py",
   "mimetype": "text/x-python",
   "name": "python",
   "nbconvert_exporter": "python",
   "pygments_lexer": "ipython3",
   "version": "3.6.6"
  }
 },
 "nbformat": 4,
 "nbformat_minor": 2
}
